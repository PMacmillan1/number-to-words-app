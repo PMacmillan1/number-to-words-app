{
 "cells": [
  {
   "cell_type": "markdown",
   "id": "11a73d05-ac09-445b-9ae6-5cdcd16190f9",
   "metadata": {},
   "source": [
    "## Introduction\n",
    "- Processing Numbers in Text Files\n",
    "\n",
    "This notebook processes text files to extract numeric sequences and convert them into their word equivalents. \n",
    "\n",
    "*Assumptions:*\n",
    "1. Numeric sequences should be standalone numbers (e.g., \"123\").\n",
    "2. Invalid numbers include:\n",
    "   - Numbers with commas, spaces, or invalid separators (e.g., \"1,234\", \"12.34\").\n",
    "3. The program relies on a regular expression (regex) to identify valid numbers.\n",
    "\n",
    "*Functionality:*\n",
    "2. Convert numbers to words using the `number_to_words` function.\n",
    "3. Process input files with `process_input_file` to extract and validate numbers."
   ]
  },
  {
   "cell_type": "markdown",
   "id": "b803e9f3-a695-4367-a589-976b9c6d2a45",
   "metadata": {},
   "source": [
    "## Imports and Environment Setup"
   ]
  },
  {
   "cell_type": "code",
   "execution_count": 23,
   "id": "5378dc27-5a06-4fa2-bdec-769fec461649",
   "metadata": {},
   "outputs": [
    {
     "name": "stdout",
     "output_type": "stream",
     "text": [
      "['A', 'ASCII', 'DEBUG', 'DOTALL', 'I', 'IGNORECASE', 'L', 'LOCALE', 'M', 'MULTILINE', 'Match', 'NOFLAG', 'Pattern', 'RegexFlag', 'S', 'Scanner', 'T', 'TEMPLATE', 'U', 'UNICODE', 'VERBOSE', 'X', '_MAXCACHE', '_MAXCACHE2', '__all__', '__builtins__', '__cached__', '__doc__', '__file__', '__loader__', '__name__', '__package__', '__path__', '__spec__', '__version__', '_cache', '_cache2', '_casefix', '_compile', '_compile_template', '_compiler', '_constants', '_parser', '_pickle', '_special_chars_map', '_sre', 'compile', 'copyreg', 'enum', 'error', 'escape', 'findall', 'finditer', 'fullmatch', 'functools', 'match', 'purge', 'search', 'split', 'sub', 'subn', 'template']\n",
      "['__breakpointhook__', '__displayhook__', '__doc__', '__excepthook__', '__interactivehook__', '__loader__', '__name__', '__package__', '__spec__', '__stderr__', '__stdin__', '__stdout__', '__unraisablehook__', '_base_executable', '_clear_type_cache', '_current_exceptions', '_current_frames', '_debugmallocstats', '_framework', '_getframe', '_getframemodulename', '_git', '_home', '_setprofileallthreads', '_settraceallthreads', '_stdlib_dir', '_xoptions', 'abiflags', 'activate_stack_trampoline', 'addaudithook', 'api_version', 'argv', 'audit', 'base_exec_prefix', 'base_prefix', 'breakpointhook', 'builtin_module_names', 'byteorder', 'call_tracing', 'copyright', 'deactivate_stack_trampoline', 'displayhook', 'dont_write_bytecode', 'exc_info', 'excepthook', 'exception', 'exec_prefix', 'executable', 'exit', 'flags', 'float_info', 'float_repr_style', 'get_asyncgen_hooks', 'get_coroutine_origin_tracking_depth', 'get_int_max_str_digits', 'getallocatedblocks', 'getdefaultencoding', 'getdlopenflags', 'getfilesystemencodeerrors', 'getfilesystemencoding', 'getprofile', 'getrecursionlimit', 'getrefcount', 'getsizeof', 'getswitchinterval', 'gettrace', 'getunicodeinternedsize', 'hash_info', 'hexversion', 'implementation', 'int_info', 'intern', 'is_finalizing', 'is_stack_trampoline_active', 'last_traceback', 'last_type', 'last_value', 'maxsize', 'maxunicode', 'meta_path', 'modules', 'monitoring', 'orig_argv', 'path', 'path_hooks', 'path_importer_cache', 'platform', 'platlibdir', 'prefix', 'ps1', 'ps2', 'ps3', 'pycache_prefix', 'set_asyncgen_hooks', 'set_coroutine_origin_tracking_depth', 'set_int_max_str_digits', 'setdlopenflags', 'setprofile', 'setrecursionlimit', 'setswitchinterval', 'settrace', 'stderr', 'stdin', 'stdlib_module_names', 'stdout', 'thread_info', 'unraisablehook', 'version', 'version_info', 'warnoptions']\n",
      "Support for regular expressions (RE).\n",
      "\n",
      "This module provides regular expression matching operations similar to\n",
      "those found in Perl.  It supports both 8-bit and Unicode strings; both\n",
      "the pattern and the strings being processed can contain null bytes and\n",
      "characters outside the US ASCII range.\n",
      "\n",
      "Regular expressions can contain both special and ordinary characters.\n",
      "Most ordinary characters, like \"A\", \"a\", or \"0\", are the simplest\n",
      "regular expressions; they simply match themselves.  You can\n",
      "concatenate ordinary characters, so last matches the string 'last'.\n",
      "\n",
      "The special characters are:\n",
      "    \".\"      Matches any character except a newline.\n",
      "    \"^\"      Matches the start of the string.\n",
      "    \"$\"      Matches the end of the string or just before the newline at\n",
      "             the end of the string.\n",
      "    \"*\"      Matches 0 or more (greedy) repetitions of the preceding RE.\n",
      "             Greedy means that it will match as many repetitions as possible.\n",
      "    \"+\"      Matches 1 or more (greedy) repetitions of the preceding RE.\n",
      "    \"?\"      Matches 0 or 1 (greedy) of the preceding RE.\n",
      "    *?,+?,?? Non-greedy versions of the previous three special characters.\n",
      "    {m,n}    Matches from m to n repetitions of the preceding RE.\n",
      "    {m,n}?   Non-greedy version of the above.\n",
      "    \"\\\\\"     Either escapes special characters or signals a special sequence.\n",
      "    []       Indicates a set of characters.\n",
      "             A \"^\" as the first character indicates a complementing set.\n",
      "    \"|\"      A|B, creates an RE that will match either A or B.\n",
      "    (...)    Matches the RE inside the parentheses.\n",
      "             The contents can be retrieved or matched later in the string.\n",
      "    (?aiLmsux) The letters set the corresponding flags defined below.\n",
      "    (?:...)  Non-grouping version of regular parentheses.\n",
      "    (?P<name>...) The substring matched by the group is accessible by name.\n",
      "    (?P=name)     Matches the text matched earlier by the group named name.\n",
      "    (?#...)  A comment; ignored.\n",
      "    (?=...)  Matches if ... matches next, but doesn't consume the string.\n",
      "    (?!...)  Matches if ... doesn't match next.\n",
      "    (?<=...) Matches if preceded by ... (must be fixed length).\n",
      "    (?<!...) Matches if not preceded by ... (must be fixed length).\n",
      "    (?(id/name)yes|no) Matches yes pattern if the group with id/name matched,\n",
      "                       the (optional) no pattern otherwise.\n",
      "\n",
      "The special sequences consist of \"\\\\\" and a character from the list\n",
      "below.  If the ordinary character is not on the list, then the\n",
      "resulting RE will match the second character.\n",
      "    \\number  Matches the contents of the group of the same number.\n",
      "    \\A       Matches only at the start of the string.\n",
      "    \\Z       Matches only at the end of the string.\n",
      "    \\b       Matches the empty string, but only at the start or end of a word.\n",
      "    \\B       Matches the empty string, but not at the start or end of a word.\n",
      "    \\d       Matches any decimal digit; equivalent to the set [0-9] in\n",
      "             bytes patterns or string patterns with the ASCII flag.\n",
      "             In string patterns without the ASCII flag, it will match the whole\n",
      "             range of Unicode digits.\n",
      "    \\D       Matches any non-digit character; equivalent to [^\\d].\n",
      "    \\s       Matches any whitespace character; equivalent to [ \\t\\n\\r\\f\\v] in\n",
      "             bytes patterns or string patterns with the ASCII flag.\n",
      "             In string patterns without the ASCII flag, it will match the whole\n",
      "             range of Unicode whitespace characters.\n",
      "    \\S       Matches any non-whitespace character; equivalent to [^\\s].\n",
      "    \\w       Matches any alphanumeric character; equivalent to [a-zA-Z0-9_]\n",
      "             in bytes patterns or string patterns with the ASCII flag.\n",
      "             In string patterns without the ASCII flag, it will match the\n",
      "             range of Unicode alphanumeric characters (letters plus digits\n",
      "             plus underscore).\n",
      "             With LOCALE, it will match the set [0-9_] plus characters defined\n",
      "             as letters for the current locale.\n",
      "    \\W       Matches the complement of \\w.\n",
      "    \\\\       Matches a literal backslash.\n",
      "\n",
      "This module exports the following functions:\n",
      "    match     Match a regular expression pattern to the beginning of a string.\n",
      "    fullmatch Match a regular expression pattern to all of a string.\n",
      "    search    Search a string for the presence of a pattern.\n",
      "    sub       Substitute occurrences of a pattern found in a string.\n",
      "    subn      Same as sub, but also return the number of substitutions made.\n",
      "    split     Split a string by the occurrences of a pattern.\n",
      "    findall   Find all occurrences of a pattern in a string.\n",
      "    finditer  Return an iterator yielding a Match object for each match.\n",
      "    compile   Compile a pattern into a Pattern object.\n",
      "    purge     Clear the regular expression cache.\n",
      "    escape    Backslash all non-alphanumerics in a string.\n",
      "\n",
      "Each function other than purge and escape can take an optional 'flags' argument\n",
      "consisting of one or more of the following module constants, joined by \"|\".\n",
      "A, L, and U are mutually exclusive.\n",
      "    A  ASCII       For string patterns, make \\w, \\W, \\b, \\B, \\d, \\D\n",
      "                   match the corresponding ASCII character categories\n",
      "                   (rather than the whole Unicode categories, which is the\n",
      "                   default).\n",
      "                   For bytes patterns, this flag is the only available\n",
      "                   behaviour and needn't be specified.\n",
      "    I  IGNORECASE  Perform case-insensitive matching.\n",
      "    L  LOCALE      Make \\w, \\W, \\b, \\B, dependent on the current locale.\n",
      "    M  MULTILINE   \"^\" matches the beginning of lines (after a newline)\n",
      "                   as well as the string.\n",
      "                   \"$\" matches the end of lines (before a newline) as well\n",
      "                   as the end of the string.\n",
      "    S  DOTALL      \".\" matches any character at all, including the newline.\n",
      "    X  VERBOSE     Ignore whitespace and comments for nicer looking RE's.\n",
      "    U  UNICODE     For compatibility only. Ignored for string patterns (it\n",
      "                   is the default), and forbidden for bytes patterns.\n",
      "\n",
      "This module also defines an exception 'error'.\n",
      "\n",
      "\n",
      "This module provides access to some objects used or maintained by the\n",
      "interpreter and to functions that interact strongly with the interpreter.\n",
      "\n",
      "Dynamic objects:\n",
      "\n",
      "argv -- command line arguments; argv[0] is the script pathname if known\n",
      "path -- module search path; path[0] is the script directory, else ''\n",
      "modules -- dictionary of loaded modules\n",
      "\n",
      "displayhook -- called to show results in an interactive session\n",
      "excepthook -- called to handle any uncaught exception other than SystemExit\n",
      "  To customize printing in an interactive session or to install a custom\n",
      "  top-level exception handler, assign other functions to replace these.\n",
      "\n",
      "stdin -- standard input file object; used by input()\n",
      "stdout -- standard output file object; used by print()\n",
      "stderr -- standard error object; used for error messages\n",
      "  By assigning other file objects (or objects that behave like files)\n",
      "  to these, it is possible to redirect all of the interpreter's I/O.\n",
      "\n",
      "last_exc - the last uncaught exception\n",
      "  Only available in an interactive session after a\n",
      "  traceback has been printed.\n",
      "last_type -- type of last uncaught exception\n",
      "last_value -- value of last uncaught exception\n",
      "last_traceback -- traceback of last uncaught exception\n",
      "  These three are the (deprecated) legacy representation of last_exc.\n",
      "\n",
      "Static objects:\n",
      "\n",
      "builtin_module_names -- tuple of module names built into this interpreter\n",
      "copyright -- copyright notice pertaining to this interpreter\n",
      "exec_prefix -- prefix used to find the machine-specific Python library\n",
      "executable -- absolute path of the executable binary of the Python interpreter\n",
      "float_info -- a named tuple with information about the float implementation.\n",
      "float_repr_style -- string indicating the style of repr() output for floats\n",
      "hash_info -- a named tuple with information about the hash algorithm.\n",
      "hexversion -- version information encoded as a single integer\n",
      "implementation -- Python implementation information.\n",
      "int_info -- a named tuple with information about the int implementation.\n",
      "maxsize -- the largest supported length of containers.\n",
      "maxunicode -- the value of the largest Unicode code point\n",
      "platform -- platform identifier\n",
      "prefix -- prefix used to find the Python library\n",
      "thread_info -- a named tuple with information about the thread implementation.\n",
      "version -- the version of this interpreter as a string\n",
      "version_info -- version information as a named tuple\n",
      "__stdin__ -- the original stdin; don't touch!\n",
      "__stdout__ -- the original stdout; don't touch!\n",
      "__stderr__ -- the original stderr; don't touch!\n",
      "__displayhook__ -- the original displayhook; don't touch!\n",
      "__excepthook__ -- the original excepthook; don't touch!\n",
      "\n",
      "Functions:\n",
      "\n",
      "displayhook() -- print an object to the screen, and save it in builtins._\n",
      "excepthook() -- print an exception and its traceback to sys.stderr\n",
      "exception() -- return the current thread's active exception\n",
      "exc_info() -- return information about the current thread's active exception\n",
      "exit() -- exit the interpreter by raising SystemExit\n",
      "getdlopenflags() -- returns flags to be used for dlopen() calls\n",
      "getprofile() -- get the global profiling function\n",
      "getrefcount() -- return the reference count for an object (plus one :-)\n",
      "getrecursionlimit() -- return the max recursion depth for the interpreter\n",
      "getsizeof() -- return the size of an object in bytes\n",
      "gettrace() -- get the global debug tracing function\n",
      "setdlopenflags() -- set the flags to be used for dlopen() calls\n",
      "setprofile() -- set the global profiling function\n",
      "setrecursionlimit() -- set the max recursion depth for the interpreter\n",
      "settrace() -- set the global debug tracing function\n",
      "\n"
     ]
    }
   ],
   "source": [
    "# Import required libraries\n",
    "import re  # For regular expressions\n",
    "import sys  # For system information and module management\n",
    "import os  # For directory management. The `os` module is used to interact with the file system.\n",
    "\n",
    "# Confirm the module is loaded\n",
    "print(dir(re))  # Display list of attributes and methods in the 're' module\n",
    "print(dir(sys))  # Display list of attributes and methods in the 'sys' module\n",
    "\n",
    "# Display documentation for modules\n",
    "print(re.__doc__)  # Documentation for the `re` module\n",
    "print(sys.__doc__)  # Documentation for the `sys` module\n",
    "\n",
    "#set directory\n",
    "os.chdir(\"/Users/paige_macmillan/Documents/Ninety One/Interview Process/Technical Assessment\")"
   ]
  },
  {
   "cell_type": "markdown",
   "id": "12548e8b-c5c7-4ae5-9ce7-b6915d891165",
   "metadata": {},
   "source": [
    "## Core Functionality: Number-to-Words Conversion"
   ]
  },
  {
   "cell_type": "markdown",
   "id": "2d90bade-8fda-4527-b395-5524a1303727",
   "metadata": {},
   "source": [
    "**Number-to-Words Conversion Function**\n",
    "    This function converts an integer into its word equivalent. It handles numbers from zero to billions."
   ]
  },
  {
   "cell_type": "code",
   "execution_count": 16,
   "id": "be9d557c-dbb6-4236-9f8b-0fe0435e264f",
   "metadata": {},
   "outputs": [],
   "source": [
    "#Define Number to Words conversion function\n",
    "def number_to_words(num):\n",
    "    \"\"\"\n",
    "    Converts an integer to its word equivalent.\n",
    "\n",
    "    Parameters:\n",
    "    num (int): The integer to be converted.\n",
    "\n",
    "    Returns:\n",
    "    str: The word equivalent of the integer.\n",
    "    \"\"\"\n",
    "    if num == 0:\n",
    "        return \"zero\"\n",
    "\n",
    "    def ones(n): # Base case for single digits\n",
    "        return [\"\", \"one\", \"two\", \"three\", \"four\", \"five\", \"six\", \"seven\", \"eight\", \"nine\"][n]\n",
    "\n",
    "    def teens(n):\n",
    "        return [\"\", \"eleven\", \"twelve\", \"thirteen\", \"fourteen\", \"fifteen\", \"sixteen\",\n",
    "                \"seventeen\", \"eighteen\", \"nineteen\"][n-10]\n",
    "\n",
    "    def tens(n):\n",
    "        return [\"\", \"\", \"twenty\", \"thirty\", \"forty\", \"fifty\", \"sixty\", \"seventy\", \"eighty\", \"ninety\"][n]\n",
    "\n",
    "    def helper(n): #this is the main function \n",
    "        if n < 10:\n",
    "            return ones(n)\n",
    "        elif 10 < n < 20:\n",
    "            return teens(n)\n",
    "        elif n < 100:\n",
    "            return tens(n // 10) + ('' if n % 10 == 0 else '-' + ones(n % 10))\n",
    "        elif n < 1000:\n",
    "            return ones(n // 100) + \" hundred\" + ('' if n % 100 == 0 else ' and ' + helper(n % 100))\n",
    "        else:\n",
    "            for idx, word in enumerate([\"thousand\", \"million\", \"billion\"], 1):\n",
    "                if n < 1000 ** (idx + 1):\n",
    "                    return helper(n // (1000 ** idx)) + f\" {word}\" + \\\n",
    "                           ('' if n % (1000 ** idx) == 0 else ', ' + helper(n % (1000 ** idx)))\n",
    "\n",
    "    return helper(num)"
   ]
  },
  {
   "cell_type": "markdown",
   "id": "44822ea2-f272-4c34-9b1a-23f4f46e172f",
   "metadata": {},
   "source": [
    "**number_to_words function**\n",
    "1. Nested Helper Functions\n",
    "   - ones(n),teens(n),tens(n)\n",
    "\n",
    "2. The main function\n",
    "   - helper(n)\n",
    "   - helper() function simplifies handling larger numbers by isolating logic for specific number ranges.\n",
    "   - the helper function here, in number_to_words, uses recursion to handle numbers in the thousands, millions, and billions\n",
    "   - efficiency: function calls itself to solve smaller instances of the same problem without duplicating code\n",
    "   - Instead of writing separate code for each range (e.g., thousands, millions, billions), recursion allows the function to “break down” a number into smaller chunks and process each part systematically.\n",
    "   - easier to maintain"
   ]
  },
  {
   "cell_type": "markdown",
   "id": "e5309f67-9599-4a65-93d4-b65a9c37612a",
   "metadata": {},
   "source": [
    "## Core Functionality: Processing Input Files"
   ]
  },
  {
   "cell_type": "markdown",
   "id": "080ec127-6675-4e7b-938d-83822a71c943",
   "metadata": {},
   "source": [
    "**Processing Input Files**\n",
    "This function reads a text file line by line, extracts numeric sequences, validates them, and converts them into words."
   ]
  },
  {
   "cell_type": "code",
   "execution_count": 21,
   "id": "cbb3367b-fcc4-4e31-a26f-8958de62b513",
   "metadata": {},
   "outputs": [],
   "source": [
    "#SOLUTION E**\n",
    "#define function named process_input_file\n",
    "def process_input_file(input_file):  #function takes a single parameter, input_file\n",
    "    \"\"\"\n",
    "    This function processes the \n",
    "    contents of a text file to extract\n",
    "    and convert numbers into words\n",
    "\n",
    "    Parameters:\n",
    "    input_file (str): The path to the text file to be processed.\n",
    "\n",
    "    Returns:\n",
    "    None: Prints the word equivalent of valid numbers or 'number invalid' for invalid sequences. \n",
    "    \"\"\"\n",
    "    with open(input_file, 'r') as lines: #open the input_file in read mode ('r') and assign the file object to 'lines'\n",
    "        for line in lines: #iterate through each line in the file object, 'lines' for processing\n",
    "            # Extract numeric sequences in the line matching the regex pattern \n",
    "            matches = re.findall(r'(?<![^\\s])\\d+(?![^\\s.]|\\s?\\d|\\s?,|\\.(?!\\s|$))', line) #find all occurences of the regex pattern in the string (line)\n",
    "                                                                                        #Stores all matches in a list matches.\n",
    "            \n",
    "            # Check if valid numbers are found\n",
    "            if matches: #Checks if any numeric sequences were found in the current line.\n",
    "                for match in matches: #Iterates through the matches identified in the current line\n",
    "                    #for each match, try convert it to an integer\n",
    "                    try: \n",
    "                        num = int(match)  # Convert valid match to an integer\n",
    "                        print(number_to_words(num)) #if conversion to a valid integer is successful, converts the integer to words using number_to_words() and prints the result.\n",
    "                    except ValueError: # if conversion unsuccessful, print \"number invalid\"\n",
    "                        print(\"number invalid\")\n",
    "            else:\n",
    "               # If no matches are found prints \"number invalid\".\n",
    "                print(\"number invalid\")"
   ]
  },
  {
   "cell_type": "markdown",
   "id": "fc6fbe60-4c52-48f7-bfc0-47810042e4a7",
   "metadata": {},
   "source": [
    "## Notes:\n",
    "- Regex to ensure only valid standalone numbers are matched.\n",
    "- The `try-except` block ensures invalid matches do not crash the program."
   ]
  },
  {
   "cell_type": "markdown",
   "id": "b5ba9102-848e-400f-80ef-fb97299b83a7",
   "metadata": {},
   "source": [
    "## Execution or 'Running the App\""
   ]
  },
  {
   "cell_type": "markdown",
   "id": "fb3aba1e-2feb-41a8-9f5e-187b4ff22db6",
   "metadata": {},
   "source": [
    "__2 parts:__\n",
    "   1.  Test that the input_file exists\n",
    "   2.  Run the Application (i.e. processes the input file if found)\n"
   ]
  },
  {
   "cell_type": "code",
   "execution_count": 27,
   "id": "015a708e-a4cd-4f8b-9b07-6ee93d7a7129",
   "metadata": {},
   "outputs": [
    {
     "name": "stdout",
     "output_type": "stream",
     "text": [
      "File found!\n"
     ]
    }
   ],
   "source": [
    "#This section tests if the input file exists and processes it if found.\n",
    "\n",
    "#Verifies the input file's existence before proceeding to avoid runtime errors.\n",
    "if os.path.exists(\"test_file_3.txt\"):\n",
    "    print(\"File found!\")\n",
    "else:\n",
    "    print(\"File not found. Check the file path.\")"
   ]
  },
  {
   "cell_type": "code",
   "execution_count": 29,
   "id": "379e557f-9fb1-4386-93e6-1197d43f747d",
   "metadata": {},
   "outputs": [
    {
     "name": "stdout",
     "output_type": "stream",
     "text": [
      "four hundred\n",
      "number invalid\n",
      "number invalid\n",
      "number invalid\n",
      "seven hundred and eighty-nine\n",
      "nine thousand, eight hundred and seventy-six\n",
      "number invalid\n",
      "five hundred and sixty-seven\n",
      "one hundred\n",
      "one hundred and twenty-three\n",
      "number invalid\n",
      "number invalid\n",
      "number invalid\n",
      "forty\n",
      "number invalid\n",
      "two hundred and thirty-four thousand, five hundred and sixty-seven\n",
      "number invalid\n",
      "number invalid\n",
      "number invalid\n",
      "number invalid\n"
     ]
    }
   ],
   "source": [
    "# Run the main function\n",
    "if __name__ == \"__main__\":\n",
    "    # Specify the name of your input file in the current working directory\n",
    "    input_file = \"test_file_3.txt\"  \n",
    "    process_input_file(input_file)"
   ]
  },
  {
   "cell_type": "markdown",
   "id": "5c49f342-e4d0-4414-a76c-eaf27f402304",
   "metadata": {},
   "source": [
    "## Appendix "
   ]
  },
  {
   "cell_type": "markdown",
   "id": "4c6c3c7a-3922-4927-9898-bf398259c32a",
   "metadata": {},
   "source": [
    "Instructions necessary to run the Application:"
   ]
  },
  {
   "cell_type": "markdown",
   "id": "0711ce7d-58da-4566-8e29-5d85f47cafde",
   "metadata": {},
   "source": [
    "**Optional Tests**"
   ]
  },
  {
   "cell_type": "code",
   "execution_count": 103,
   "id": "dfc33ea2-a8e7-4133-bce2-df85565ce303",
   "metadata": {},
   "outputs": [
    {
     "name": "stdout",
     "output_type": "stream",
     "text": [
      "<re.Match object; span=(0, 5), match='hello'>\n"
     ]
    }
   ],
   "source": [
    "# Test `re` by using a regex function\n",
    "#result = re.match(r\"hello\", \"hello world\")\n",
    "#print(result)  # Should print a match object if successful"
   ]
  },
  {
   "cell_type": "code",
   "execution_count": null,
   "id": "6f05c8d3-2aec-4cdb-a36e-bfd014139983",
   "metadata": {},
   "outputs": [],
   "source": []
  }
 ],
 "metadata": {
  "kernelspec": {
   "display_name": "Python 3 (ipykernel)",
   "language": "python",
   "name": "python3"
  },
  "language_info": {
   "codemirror_mode": {
    "name": "ipython",
    "version": 3
   },
   "file_extension": ".py",
   "mimetype": "text/x-python",
   "name": "python",
   "nbconvert_exporter": "python",
   "pygments_lexer": "ipython3",
   "version": "3.12.4"
  }
 },
 "nbformat": 4,
 "nbformat_minor": 5
}
